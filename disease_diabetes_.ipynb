{
  "nbformat": 4,
  "nbformat_minor": 0,
  "metadata": {
    "colab": {
      "provenance": []
    },
    "kernelspec": {
      "name": "python3",
      "display_name": "Python 3"
    },
    "language_info": {
      "name": "python"
    }
  },
  "cells": [
    {
      "cell_type": "code",
      "execution_count": 1,
      "metadata": {
        "colab": {
          "base_uri": "https://localhost:8080/"
        },
        "id": "Onng7SHAFNxu",
        "outputId": "cc876ac0-7c53-4430-911d-5b827957ef5a"
      },
      "outputs": [
        {
          "output_type": "stream",
          "name": "stdout",
          "text": [
            "Training Accuracy: 0.7866449511400652\n",
            "Test Accuracy: 0.7727272727272727\n",
            "[0]\n",
            "The person is not diabetic\n"
          ]
        }
      ],
      "source": [
        "import numpy as np\n",
        "import pandas as pd\n",
        "from sklearn.preprocessing import StandardScaler\n",
        "from sklearn.model_selection import train_test_split\n",
        "from sklearn import svm\n",
        "from sklearn.metrics import accuracy_score\n",
        "import pickle\n",
        "import random\n",
        "\n",
        "# Load the dataset\n",
        "diabetes_dataset = pd.read_csv(\"/content/diabetes.csv\")\n",
        "\n",
        "# Separate the data and labels\n",
        "X = diabetes_dataset.drop(columns='Outcome', axis=1)\n",
        "Y = diabetes_dataset['Outcome']\n",
        "\n",
        "# Standardize the features\n",
        "scaler = StandardScaler()\n",
        "scaler.fit(X)\n",
        "X = scaler.transform(X)\n",
        "\n",
        "# Split the dataset\n",
        "X_train, X_test, Y_train, Y_test = train_test_split(X, Y, test_size=0.2, stratify=Y, random_state=2)\n",
        "\n",
        "# Train the model\n",
        "classifier = svm.SVC(kernel='linear')\n",
        "classifier.fit(X_train, Y_train)\n",
        "\n",
        "# Evaluate the model\n",
        "X_train_prediction = classifier.predict(X_train)\n",
        "training_data_accuracy = accuracy_score(Y_train, X_train_prediction)\n",
        "\n",
        "X_test_prediction = classifier.predict(X_test)\n",
        "test_data_accuracy = accuracy_score(Y_test, X_test_prediction)\n",
        "\n",
        "print('Training Accuracy:', training_data_accuracy)\n",
        "print('Test Accuracy:', test_data_accuracy)\n",
        "\n",
        "# Save the model\n",
        "filename = \"diabetes_trained_model.sav\"\n",
        "pickle.dump(classifier, open(filename, \"wb\"))\n",
        "pickle.dump(scaler, open(\"diabetes_scaler.sav\", \"wb\"))\n",
        "\n",
        "# -------- Prediction System --------\n",
        "\n",
        "# Input sample\n",
        "input_data = (1, 85, 66, 29, 0, 26.6, 0.351, 31)\n",
        "feature_names = ['Pregnancies', 'Glucose', 'BloodPressure', 'SkinThickness',\n",
        "                 'Insulin', 'BMI', 'DiabetesPedigreeFunction', 'Age']\n",
        "\n",
        "# Convert input to a DataFrame with feature names\n",
        "input_df = pd.DataFrame([input_data], columns=feature_names)\n",
        "\n",
        "# Load the trained model and scaler\n",
        "loaded_model = pickle.load(open(\"diabetes_trained_model.sav\", \"rb\"))\n",
        "loaded_scaler = pickle.load(open(\"diabetes_scaler.sav\", \"rb\"))\n",
        "\n",
        "# Standardize the input\n",
        "std_data = loaded_scaler.transform(input_df)\n",
        "\n",
        "# Make prediction\n",
        "prediction = loaded_model.predict(std_data)\n",
        "print(prediction)\n",
        "\n",
        "if prediction[0] == 0:\n",
        "    print('The person is not diabetic')\n",
        "else:\n",
        "    print('The person is diabetic')\n"
      ]
    }
  ]
}